{
 "cells": [
  {
   "cell_type": "markdown",
   "id": "8283777e",
   "metadata": {},
   "source": [
    "# Data Science Tools and Ecosystem"
   ]
  },
  {
   "cell_type": "markdown",
   "id": "2732496e",
   "metadata": {},
   "source": [
    "In this notebook, Data Science Tools and Ecosystem are summarised"
   ]
  },
  {
   "cell_type": "markdown",
   "id": "de836416",
   "metadata": {},
   "source": [
    "**Objectives:**\n",
    "* Popular languages used by Data Scientists\n",
    "* common libraries used by Data Scientists\n",
    "* Data Science Tools"
   ]
  },
  {
   "cell_type": "markdown",
   "id": "ec6f8cbf",
   "metadata": {},
   "source": [
    "Some of the popular languages that Data Scientists use are:\n",
    "1. Pyhthon\n",
    "2. R\n",
    "3. SQL"
   ]
  },
  {
   "cell_type": "markdown",
   "id": "c29263ec",
   "metadata": {},
   "source": [
    "Some of the commonly used libraries used by data scientists include:\n",
    "1. NumPy\n",
    "2. Pandas\n",
    "3. Matplotlib\n",
    "4. SciPy"
   ]
  },
  {
   "cell_type": "markdown",
   "id": "8bcfe732",
   "metadata": {},
   "source": [
    "|Data Science Tools|\n",
    "|------------------|\n",
    "|Jupyter Notebook|\n",
    "|RStudio|\n",
    "|Apache Spark|"
   ]
  },
  {
   "cell_type": "markdown",
   "id": "57f464e9",
   "metadata": {},
   "source": [
    "### Below are a few examples of evaluating arithmetic expressions in python: "
   ]
  },
  {
   "cell_type": "code",
   "execution_count": 2,
   "id": "47330288",
   "metadata": {},
   "outputs": [
    {
     "data": {
      "text/plain": [
       "17"
      ]
     },
     "execution_count": 2,
     "metadata": {},
     "output_type": "execute_result"
    }
   ],
   "source": [
    "# This is a simple arithmetic expression to multiply then add integers\n",
    "(3*4)+5"
   ]
  },
  {
   "cell_type": "code",
   "execution_count": 3,
   "id": "565d5b01",
   "metadata": {
    "scrolled": true
   },
   "outputs": [
    {
     "data": {
      "text/plain": [
       "3.3333333333333335"
      ]
     },
     "execution_count": 3,
     "metadata": {},
     "output_type": "execute_result"
    }
   ],
   "source": [
    "# This will convert 200 minutes to hours by dividing by 60\n",
    "200/60"
   ]
  },
  {
   "cell_type": "markdown",
   "id": "599e3e1e",
   "metadata": {},
   "source": [
    "## Author: ##\n",
    "Youssef Ahmed"
   ]
  }
 ],
 "metadata": {
  "kernelspec": {
   "display_name": "Python 3 (ipykernel)",
   "language": "python",
   "name": "python3"
  },
  "language_info": {
   "codemirror_mode": {
    "name": "ipython",
    "version": 3
   },
   "file_extension": ".py",
   "mimetype": "text/x-python",
   "name": "python",
   "nbconvert_exporter": "python",
   "pygments_lexer": "ipython3",
   "version": "3.11.4"
  }
 },
 "nbformat": 4,
 "nbformat_minor": 5
}
